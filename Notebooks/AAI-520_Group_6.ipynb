{
 "cells": [
  {
   "cell_type": "markdown",
   "id": "721e0449",
   "metadata": {},
   "source": [
    "# Repo Link\n",
    "https://github.com/mr-kelsey/fa25-aai520-group6\n",
    "\n",
    "# Objective\n",
    "Build an autonomous Investment Research Agent that:\n",
    "1. Plans its research steps for a given stock symbol.\n",
    "2. Uses tools dynamically (APIs, datasets, retrieval).\n",
    "3. Self-reflects to assess the quality of its output.\n",
    "4. Learns across runs (e.g., keeps brief memories or notes to improve future analyses)."
   ]
  },
  {
   "cell_type": "markdown",
   "id": "f1d4a1f3",
   "metadata": {},
   "source": [
    "# Code"
   ]
  },
  {
   "cell_type": "code",
   "execution_count": null,
   "id": "6285ff4d",
   "metadata": {},
   "outputs": [],
   "source": [
    "\"\"\"Import required libraies and load environmentals\"\"\"\n",
    "from dotenv import dotenv_values\n",
    "from smolagents import ToolCallingAgent, TransformersModel, InferenceClientModel\n",
    "from warnings import filterwarnings\n",
    "\n",
    "from tools import chaining, performance, risk, sentiment, impact, commander, evaluator\n",
    "\n",
    "# Gluonts uses an outdated pd.df access method that causes a warning.  We are silencing it here to provide a cleaner output\n",
    "filterwarnings(\"ignore\")\n",
    "env = dotenv_values(\".env\")"
   ]
  },
  {
   "cell_type": "code",
   "execution_count": null,
   "id": "24749fb9",
   "metadata": {},
   "outputs": [],
   "source": [
    "\"\"\"Set up initial agent\"\"\"\n",
    "base_model = TransformersModel(model_id=\"Qwen/Qwen3-Coder-30B-A3B-Instruct\", device_map=\"auto\", max_new_tokens=4096)"
   ]
  },
  {
   "cell_type": "markdown",
   "id": "6d1c05e9",
   "metadata": {},
   "source": [
    "## Prompt Chaining:"
   ]
  },
  {
   "cell_type": "code",
   "execution_count": null,
   "id": "a2331af1",
   "metadata": {},
   "outputs": [],
   "source": [
    "chaining_agent = ToolCallingAgent(\n",
    "    model=base_model,\n",
    "    tools=chaining.tools,\n",
    "    )\n",
    "\n",
    "chaining_agent.visualize()"
   ]
  },
  {
   "cell_type": "markdown",
   "id": "947dff63",
   "metadata": {},
   "source": [
    "### Ingest News"
   ]
  },
  {
   "cell_type": "code",
   "execution_count": null,
   "id": "fadead67",
   "metadata": {},
   "outputs": [],
   "source": [
    "NVDA_links = chaining_agent.run(\"Retrieve a list of URLs for the financial instrument `NVDA`.  Make sure you return just the list of URLs without any further processing.\")"
   ]
  },
  {
   "cell_type": "markdown",
   "id": "a2dbe135",
   "metadata": {},
   "source": [
    "### Preprocess"
   ]
  },
  {
   "cell_type": "code",
   "execution_count": null,
   "id": "0499188d",
   "metadata": {},
   "outputs": [],
   "source": [
    "NVDA_articles = chaining_agent.run(\"Use the list of URLs to retrieve the full article at each URL.  Simply retrieve all articles and nothing more.\",\n",
    "                                   additional_args={\"urls\": NVDA_links})"
   ]
  },
  {
   "cell_type": "markdown",
   "id": "803107c6",
   "metadata": {},
   "source": [
    "### Classify"
   ]
  },
  {
   "cell_type": "code",
   "execution_count": null,
   "id": "64b28906",
   "metadata": {},
   "outputs": [],
   "source": []
  },
  {
   "cell_type": "markdown",
   "id": "440f75ef",
   "metadata": {},
   "source": [
    "### Extract"
   ]
  },
  {
   "cell_type": "code",
   "execution_count": null,
   "id": "11a7d8e5",
   "metadata": {},
   "outputs": [],
   "source": []
  },
  {
   "cell_type": "markdown",
   "id": "e7bc9c78",
   "metadata": {},
   "source": [
    "### Summarize"
   ]
  },
  {
   "cell_type": "code",
   "execution_count": null,
   "id": "e50ca5f9",
   "metadata": {},
   "outputs": [],
   "source": []
  },
  {
   "cell_type": "markdown",
   "id": "a856783b",
   "metadata": {},
   "source": [
    "## Routing:"
   ]
  },
  {
   "cell_type": "code",
   "execution_count": null,
   "id": "c19888aa",
   "metadata": {},
   "outputs": [],
   "source": [
    "\"\"\"Configure agents\"\"\"\n",
    "performance_agent = ToolCallingAgent(\n",
    "    name=\"Perforance\",\n",
    "    description=\"Analyze stock performance, historical growth, and future potential.\",\n",
    "    model=InferenceClientModel(),\n",
    "    tools=performance.tools,\n",
    "    )\n",
    "\n",
    "risk_agent = ToolCallingAgent(\n",
    "    name=\"Risk\",\n",
    "    description=\"Measure risk, volatility, and downside probability.\",\n",
    "    model=InferenceClientModel(),\n",
    "    tools=risk.tools,\n",
    "    )\n",
    "\n",
    "sentiment_agent = ToolCallingAgent(\n",
    "    name=\"Sentiment\",\n",
    "    description=\"Gauge market mood through news and media sentiment.\",\n",
    "    model=InferenceClientModel(),\n",
    "    tools=sentiment.tools,\n",
    "    )\n",
    "\n",
    "impact_agent = ToolCallingAgent(\n",
    "    name=\"Impact\",\n",
    "    description=\"Evaluate sustainability, innovation, and ethical governance.\",\n",
    "    model=InferenceClientModel(),\n",
    "    tools=impact.tools,\n",
    "    )\n",
    "\n",
    "evaluation_agent = ToolCallingAgent(\n",
    "    name=\"Evaluator\",\n",
    "    description=\"Audit, validate, and optimize Commander's final decision.\",\n",
    "    model=InferenceClientModel(),  # probably need a more robust agent here...\n",
    "    tools=evaluator.tools,\n",
    "    )\n",
    "\n",
    "commander_agent = ToolCallingAgent(\n",
    "    name=\"Commander\",\n",
    "    description=\"Synthesize all agent outputs and deliver final classification.\",\n",
    "    model=InferenceClientModel(),\n",
    "    tools=commander.tools,\n",
    "    managed_agents=[performance_agent, risk_agent, sentiment_agent, impact_agent, evaluation_agent]\n",
    "    )\n",
    "\n",
    "commander_agent.visualize()"
   ]
  },
  {
   "cell_type": "code",
   "execution_count": null,
   "id": "77439ee0",
   "metadata": {},
   "outputs": [],
   "source": [
    "task1 = \"NVIDIA stock (NVDA)\"\n",
    "task2 = \"Bitwise Bitcoin ETF (BITB)\"\n",
    "\n",
    "commander_agent.run(f\"\"\"Your task is to classify each of the following financial instruments into “BUY”, “HOLD”, or “AVOID”:\n",
    "1. {task1}\n",
    "2. {task2}\n",
    "\n",
    "You have a very capable team below you that you should leverage to accomplish your task.  Here are the profiles of each of your team members:\n",
    "`Performance`\n",
    "\tRole: Evaluates core metrics — returns, growth rate, EPS, and expense ratios if analyzing ETFs.\n",
    "\tLogic: Calculates performance over 1, 3, and 5 years; compares it to sector averages.\n",
    "\tOutput: A performance score between 0 and 1 with 1 being the most performant.\n",
    "    \n",
    "`Risk`\n",
    "\tRole: Measures risk — beta value, standard deviation, and recent drawdowns.\n",
    "\tLogic: \n",
    "\tOutput: A risk score between -1 and 1 where 1 means “High Risk\", -1 menas High Reward”, and 0 represents a “Stable Performer”.\n",
    "    \n",
    "`Sentiment`\n",
    "\tRole: Reads financial news — determines market sentiment.\n",
    "\tLogic: Uses NLP to classify tone of each article into -1 if negative, 0 if neutral, and 1 if positive.\n",
    "\tOutput: A sentiment score consisting of the mean value of the sentiment classifications for all articles analyzed.\n",
    "    \n",
    "`Impact`\n",
    "\tRole: Determines impact — calculates ESG or AI exposure scoring.\n",
    "\tLogic: \n",
    "\tOutput: An impact score between 0 and 1 where the higher the score, the greater the impact.\n",
    "\n",
    "`Evaluator`\n",
    "\tRole: Reviews worker logs — ensures final recommendation is logically derived from information retrieved.\n",
    "    Logic: \n",
    "    Output: A binary classification: \"PASS\" if the logic is sound, \"FAIL\" if the logic is unsound.\n",
    "    \n",
    "An example workflow would be:\n",
    "1) Task each of your workers with doing their job:\n",
    "\ti) Performance should calculate and return a performance score.\n",
    "    ii) Risk should calculate and return a risk score.\n",
    "    iii) Sentiment should calculate and return a sentiment score.\n",
    "    iv) Impact should calculate and return an impact score.\n",
    "2) Use your team member's scores to determine a reccomendation.\n",
    "3) Send your logs and recommendation to Evaluator for final sign-off.\n",
    "4) Decide what to do next based on what Evaluator returns:\n",
    "\ti) If Evaluator returns \"PASS\":\n",
    "\t\t5) Output your final recommendation: “BUY”, “HOLD”, or “AVOID”\n",
    "    ii) If Evaluator returns \"FAIL\":\n",
    "\t\t5) Use Evaluator's `Additional context` to see where things went wrong.\n",
    "        6) Adjust accordingly and rerun as many of these steps as needed to pas the evaluation.\n",
    "\"\"\")"
   ]
  },
  {
   "cell_type": "markdown",
   "id": "d468b8ca",
   "metadata": {},
   "source": [
    "## Evaluator–Optimizer:\n",
    "### Generate analysis"
   ]
  },
  {
   "cell_type": "code",
   "execution_count": null,
   "id": "ddd15d4a",
   "metadata": {},
   "outputs": [],
   "source": []
  },
  {
   "cell_type": "markdown",
   "id": "7cee0f65",
   "metadata": {},
   "source": [
    "### Evaluate quality"
   ]
  },
  {
   "cell_type": "code",
   "execution_count": null,
   "id": "f2c2fdad",
   "metadata": {},
   "outputs": [],
   "source": []
  },
  {
   "cell_type": "markdown",
   "id": "09107df8",
   "metadata": {},
   "source": [
    "### Refine using feedback"
   ]
  },
  {
   "cell_type": "code",
   "execution_count": null,
   "id": "3722be4f",
   "metadata": {},
   "outputs": [],
   "source": []
  },
  {
   "cell_type": "markdown",
   "id": "f343e715",
   "metadata": {},
   "source": [
    "# Summary\n",
    "\n",
    "* Agent Design and Workflows\n",
    "* Agent Functions and Capabilities\n",
    "* Evaluation and Iteration"
   ]
  }
 ],
 "metadata": {
  "kernelspec": {
   "display_name": ".venv",
   "language": "python",
   "name": "python3"
  },
  "language_info": {
   "codemirror_mode": {
    "name": "ipython",
    "version": 3
   },
   "file_extension": ".py",
   "mimetype": "text/x-python",
   "name": "python",
   "nbconvert_exporter": "python",
   "pygments_lexer": "ipython3",
   "version": "3.10.12"
  }
 },
 "nbformat": 4,
 "nbformat_minor": 5
}
