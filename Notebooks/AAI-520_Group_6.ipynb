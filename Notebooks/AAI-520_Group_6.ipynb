{
 "cells": [
  {
   "cell_type": "markdown",
   "id": "721e0449",
   "metadata": {},
   "source": [
    "# Repo Link\n",
    "https://github.com/mr-kelsey/fa25-aai520-group6\n",
    "\n",
    "# Objective\n",
    "Build an autonomous Investment Research Agent that:\n",
    "1. Plans its research steps for a given stock symbol.\n",
    "2. Uses tools dynamically (APIs, datasets, retrieval).\n",
    "3. Self-reflects to assess the quality of its output.\n",
    "4. Learns across runs (e.g., keeps brief memories or notes to improve future analyses)."
   ]
  },
  {
   "cell_type": "markdown",
   "id": "f1d4a1f3",
   "metadata": {},
   "source": [
    "# Code"
   ]
  },
  {
   "cell_type": "code",
   "execution_count": null,
   "id": "6285ff4d",
   "metadata": {},
   "outputs": [],
   "source": [
    "\"\"\"Import required libraies and load environmentals\"\"\"\n",
    "from dotenv import dotenv_values\n",
    "from huggingface_hub import login\n",
    "from pathlib import Path\n",
    "from smolagents import ToolCallingAgent, TransformersModel\n",
    "from warnings import filterwarnings\n",
    "from yaml import safe_load\n",
    "\n",
    "from tools import performance, risk, sentiment, impact, commander, evaluator\n",
    "\n",
    "# Gluonts uses an outdated pd.df access method that causes a warning.  We are silencing it here to provide a cleaner output\n",
    "filterwarnings(\"ignore\")\n",
    "env = dotenv_values(\".env\")"
   ]
  },
  {
   "cell_type": "code",
   "execution_count": 2,
   "id": "1574b9cc",
   "metadata": {},
   "outputs": [],
   "source": [
    "\"\"\"Set up initial agent\"\"\"\n",
    "base_model = TransformersModel(model_id=\"HuggingFaceTB/SmolLM2-1.7B-Instruct\", device_map=\"auto\", max_new_tokens=4096)"
   ]
  },
  {
   "cell_type": "code",
   "execution_count": 3,
   "id": "b556128b",
   "metadata": {},
   "outputs": [
    {
     "data": {
      "text/html": [
       "<pre style=\"white-space:pre;overflow-x:auto;line-height:normal;font-family:Menlo,'DejaVu Sans Mono',consolas,'Courier New',monospace\"><span style=\"color: #d4b702; text-decoration-color: #d4b702; font-weight: bold\">ToolCallingAgent | HuggingFaceTB/SmolLM2-1.7B-Instruct</span>\n",
       "├── 🛠️ <span style=\"color: #1e90ff; text-decoration-color: #1e90ff; font-style: italic\">Tools:</span>\n",
       "│   ┏━━━━━━━━━━━━━━━━━━━━━┳━━━━━━━━━━━━━━━━━━━━━━━━━━━━━━━━━━━━━━━━━━━┳━━━━━━━━━━━━━━━━━━━━━━━━━━━━━━━━━━━━━━━━━━━┓\n",
       "│   ┃<span style=\"font-weight: bold\"> Name                </span>┃<span style=\"font-weight: bold\"> Description                               </span>┃<span style=\"font-weight: bold\"> Arguments                                 </span>┃\n",
       "│   ┡━━━━━━━━━━━━━━━━━━━━━╇━━━━━━━━━━━━━━━━━━━━━━━━━━━━━━━━━━━━━━━━━━━╇━━━━━━━━━━━━━━━━━━━━━━━━━━━━━━━━━━━━━━━━━━━┩\n",
       "│   │<span style=\"color: #1e90ff; text-decoration-color: #1e90ff\"> make_reccomendation </span>│ Dummy tool to show required format for    │ performance_score (`number`): The         │\n",
       "│   │<span style=\"color: #1e90ff; text-decoration-color: #1e90ff\">                     </span>│ tool use                                  │ performance score as calculated by        │\n",
       "│   │<span style=\"color: #1e90ff; text-decoration-color: #1e90ff\">                     </span>│                                           │ Performance.                              │\n",
       "│   │<span style=\"color: #1e90ff; text-decoration-color: #1e90ff\">                     </span>│                                           │ risk_score (`number`): The risk score as  │\n",
       "│   │<span style=\"color: #1e90ff; text-decoration-color: #1e90ff\">                     </span>│                                           │ calculated by Risk.                       │\n",
       "│   │<span style=\"color: #1e90ff; text-decoration-color: #1e90ff\">                     </span>│                                           │ sentiment_score (`number`): The sentiment │\n",
       "│   │<span style=\"color: #1e90ff; text-decoration-color: #1e90ff\">                     </span>│                                           │ score as calculated by Sentiment.         │\n",
       "│   │<span style=\"color: #1e90ff; text-decoration-color: #1e90ff\">                     </span>│                                           │ impact_score (`number`): The impact score │\n",
       "│   │<span style=\"color: #1e90ff; text-decoration-color: #1e90ff\">                     </span>│                                           │ as calculated by Impact.                  │\n",
       "│   │<span style=\"color: #1e90ff; text-decoration-color: #1e90ff\"> final_answer        </span>│ Provides a final answer to the given      │ answer (`any`): The final answer to the   │\n",
       "│   │<span style=\"color: #1e90ff; text-decoration-color: #1e90ff\">                     </span>│ problem.                                  │ problem                                   │\n",
       "│   └─────────────────────┴───────────────────────────────────────────┴───────────────────────────────────────────┘\n",
       "└── 🤖 <span style=\"color: #1e90ff; text-decoration-color: #1e90ff; font-style: italic\">Managed agents:</span>\n",
       "    ├── <span style=\"color: #d4b702; text-decoration-color: #d4b702; font-weight: bold\">Perforance | ToolCallingAgent | HuggingFaceTB/SmolLM2-1.7B-Instruct</span>\n",
       "    │   ├── 📝 <span style=\"color: #1e90ff; text-decoration-color: #1e90ff; font-style: italic\">Description:</span> Analyze stock performance, historical growth, and future potential.\n",
       "    │   └── 🛠️ <span style=\"color: #1e90ff; text-decoration-color: #1e90ff; font-style: italic\">Tools:</span>\n",
       "    │       ┏━━━━━━━━━━━━━━━━━━━━━━━━━━━━━┳━━━━━━━━━━━━━━━━━━━━━━━━━━━━━━━━━━━┳━━━━━━━━━━━━━━━━━━━━━━━━━━━━━━━━━━━┓\n",
       "    │       ┃<span style=\"font-weight: bold\"> Name                        </span>┃<span style=\"font-weight: bold\"> Description                       </span>┃<span style=\"font-weight: bold\"> Arguments                         </span>┃\n",
       "    │       ┡━━━━━━━━━━━━━━━━━━━━━━━━━━━━━╇━━━━━━━━━━━━━━━━━━━━━━━━━━━━━━━━━━━╇━━━━━━━━━━━━━━━━━━━━━━━━━━━━━━━━━━━┩\n",
       "    │       │<span style=\"color: #1e90ff; text-decoration-color: #1e90ff\"> calculate_performance_score </span>│ Calculate a performance score     │ instrument (`string`): The        │\n",
       "    │       │<span style=\"color: #1e90ff; text-decoration-color: #1e90ff\">                             </span>│ based on the model prediction of  │ financial instrument of interest. │\n",
       "    │       │<span style=\"color: #1e90ff; text-decoration-color: #1e90ff\">                             </span>│ future financial instrument       │                                   │\n",
       "    │       │<span style=\"color: #1e90ff; text-decoration-color: #1e90ff\">                             </span>│ movement.                         │                                   │\n",
       "    │       │<span style=\"color: #1e90ff; text-decoration-color: #1e90ff\"> final_answer                </span>│ Provides a final answer to the    │ answer (`any`): The final answer  │\n",
       "    │       │<span style=\"color: #1e90ff; text-decoration-color: #1e90ff\">                             </span>│ given problem.                    │ to the problem                    │\n",
       "    │       └─────────────────────────────┴───────────────────────────────────┴───────────────────────────────────┘\n",
       "    ├── <span style=\"color: #d4b702; text-decoration-color: #d4b702; font-weight: bold\">Risk | ToolCallingAgent | HuggingFaceTB/SmolLM2-1.7B-Instruct</span>\n",
       "    │   ├── 📝 <span style=\"color: #1e90ff; text-decoration-color: #1e90ff; font-style: italic\">Description:</span> Measure risk, volatility, and downside probability.\n",
       "    │   └── 🛠️ <span style=\"color: #1e90ff; text-decoration-color: #1e90ff; font-style: italic\">Tools:</span>\n",
       "    │       ┏━━━━━━━━━━━━━━┳━━━━━━━━━━━━━━━━━━━━━━━━━━━━━━━━━━━━━━━━━━━┳━━━━━━━━━━━━━━━━━━━━━━━━━━━━━━━━━━━━━━━━━━┓\n",
       "    │       ┃<span style=\"font-weight: bold\"> Name         </span>┃<span style=\"font-weight: bold\"> Description                               </span>┃<span style=\"font-weight: bold\"> Arguments                                </span>┃\n",
       "    │       ┡━━━━━━━━━━━━━━╇━━━━━━━━━━━━━━━━━━━━━━━━━━━━━━━━━━━━━━━━━━━╇━━━━━━━━━━━━━━━━━━━━━━━━━━━━━━━━━━━━━━━━━━┩\n",
       "    │       │<span style=\"color: #1e90ff; text-decoration-color: #1e90ff\"> echo_tool    </span>│ Dummy tool to show required format for    │ dummy (`string`): dummy string to show   │\n",
       "    │       │<span style=\"color: #1e90ff; text-decoration-color: #1e90ff\">              </span>│ tool use                                  │                                          │\n",
       "    │       │<span style=\"color: #1e90ff; text-decoration-color: #1e90ff\"> final_answer </span>│ Provides a final answer to the given      │ answer (`any`): The final answer to the  │\n",
       "    │       │<span style=\"color: #1e90ff; text-decoration-color: #1e90ff\">              </span>│ problem.                                  │ problem                                  │\n",
       "    │       └──────────────┴───────────────────────────────────────────┴──────────────────────────────────────────┘\n",
       "    ├── <span style=\"color: #d4b702; text-decoration-color: #d4b702; font-weight: bold\">Sentiment | ToolCallingAgent | HuggingFaceTB/SmolLM2-1.7B-Instruct</span>\n",
       "    │   ├── 📝 <span style=\"color: #1e90ff; text-decoration-color: #1e90ff; font-style: italic\">Description:</span> Gauge market mood through news and media sentiment.\n",
       "    │   └── 🛠️ <span style=\"color: #1e90ff; text-decoration-color: #1e90ff; font-style: italic\">Tools:</span>\n",
       "    │       ┏━━━━━━━━━━━━━━━━━━━━━━━━━━━┳━━━━━━━━━━━━━━━━━━━━━━━━━━━━━━━━━━━━┳━━━━━━━━━━━━━━━━━━━━━━━━━━━━━━━━━━━━┓\n",
       "    │       ┃<span style=\"font-weight: bold\"> Name                      </span>┃<span style=\"font-weight: bold\"> Description                        </span>┃<span style=\"font-weight: bold\"> Arguments                          </span>┃\n",
       "    │       ┡━━━━━━━━━━━━━━━━━━━━━━━━━━━╇━━━━━━━━━━━━━━━━━━━━━━━━━━━━━━━━━━━━╇━━━━━━━━━━━━━━━━━━━━━━━━━━━━━━━━━━━━┩\n",
       "    │       │<span style=\"color: #1e90ff; text-decoration-color: #1e90ff\"> calculate_sentiment_score </span>│ Calculate a sentiment score from   │ api_key (`string`): NewsAPI key    │\n",
       "    │       │<span style=\"color: #1e90ff; text-decoration-color: #1e90ff\">                           </span>│ news articles related to the       │ used to pulls articles from        │\n",
       "    │       │<span style=\"color: #1e90ff; text-decoration-color: #1e90ff\">                           </span>│ financial instrument in question.  │ NewsAPI.                           │\n",
       "    │       │<span style=\"color: #1e90ff; text-decoration-color: #1e90ff\">                           </span>│                                    │ query (`string`): The keyword(s)   │\n",
       "    │       │<span style=\"color: #1e90ff; text-decoration-color: #1e90ff\">                           </span>│                                    │ used to query NewsAPI.             │\n",
       "    │       │<span style=\"color: #1e90ff; text-decoration-color: #1e90ff\">                           </span>│                                    │ timeframe (`string`): Time period  │\n",
       "    │       │<span style=\"color: #1e90ff; text-decoration-color: #1e90ff\">                           </span>│                                    │ to look back - default: 30 days.   │\n",
       "    │       │<span style=\"color: #1e90ff; text-decoration-color: #1e90ff\"> final_answer              </span>│ Provides a final answer to the     │ answer (`any`): The final answer   │\n",
       "    │       │<span style=\"color: #1e90ff; text-decoration-color: #1e90ff\">                           </span>│ given problem.                     │ to the problem                     │\n",
       "    │       └───────────────────────────┴────────────────────────────────────┴────────────────────────────────────┘\n",
       "    ├── <span style=\"color: #d4b702; text-decoration-color: #d4b702; font-weight: bold\">Impact | ToolCallingAgent | HuggingFaceTB/SmolLM2-1.7B-Instruct</span>\n",
       "    │   ├── 📝 <span style=\"color: #1e90ff; text-decoration-color: #1e90ff; font-style: italic\">Description:</span> Evaluate sustainability, innovation, and ethical governance.\n",
       "    │   └── 🛠️ <span style=\"color: #1e90ff; text-decoration-color: #1e90ff; font-style: italic\">Tools:</span>\n",
       "    │       ┏━━━━━━━━━━━━━━┳━━━━━━━━━━━━━━━━━━━━━━━━━━━━━━━━━━━━━━━━━━━┳━━━━━━━━━━━━━━━━━━━━━━━━━━━━━━━━━━━━━━━━━━┓\n",
       "    │       ┃<span style=\"font-weight: bold\"> Name         </span>┃<span style=\"font-weight: bold\"> Description                               </span>┃<span style=\"font-weight: bold\"> Arguments                                </span>┃\n",
       "    │       ┡━━━━━━━━━━━━━━╇━━━━━━━━━━━━━━━━━━━━━━━━━━━━━━━━━━━━━━━━━━━╇━━━━━━━━━━━━━━━━━━━━━━━━━━━━━━━━━━━━━━━━━━┩\n",
       "    │       │<span style=\"color: #1e90ff; text-decoration-color: #1e90ff\"> echo_tool    </span>│ Dummy tool to show required format for    │ dummy (`string`): dummy string to show   │\n",
       "    │       │<span style=\"color: #1e90ff; text-decoration-color: #1e90ff\">              </span>│ tool use                                  │                                          │\n",
       "    │       │<span style=\"color: #1e90ff; text-decoration-color: #1e90ff\"> final_answer </span>│ Provides a final answer to the given      │ answer (`any`): The final answer to the  │\n",
       "    │       │<span style=\"color: #1e90ff; text-decoration-color: #1e90ff\">              </span>│ problem.                                  │ problem                                  │\n",
       "    │       └──────────────┴───────────────────────────────────────────┴──────────────────────────────────────────┘\n",
       "    └── <span style=\"color: #d4b702; text-decoration-color: #d4b702; font-weight: bold\">Evaluator | ToolCallingAgent | HuggingFaceTB/SmolLM2-1.7B-Instruct</span>\n",
       "        ├── 📝 <span style=\"color: #1e90ff; text-decoration-color: #1e90ff; font-style: italic\">Description:</span> Audit, validate, and optimize Commander's final decision.\n",
       "        └── 🛠️ <span style=\"color: #1e90ff; text-decoration-color: #1e90ff; font-style: italic\">Tools:</span>\n",
       "            ┏━━━━━━━━━━━━━━┳━━━━━━━━━━━━━━━━━━━━━━━━━━━━━━━━━━━━━━━━━━━┳━━━━━━━━━━━━━━━━━━━━━━━━━━━━━━━━━━━━━━━━━━┓\n",
       "            ┃<span style=\"font-weight: bold\"> Name         </span>┃<span style=\"font-weight: bold\"> Description                               </span>┃<span style=\"font-weight: bold\"> Arguments                                </span>┃\n",
       "            ┡━━━━━━━━━━━━━━╇━━━━━━━━━━━━━━━━━━━━━━━━━━━━━━━━━━━━━━━━━━━╇━━━━━━━━━━━━━━━━━━━━━━━━━━━━━━━━━━━━━━━━━━┩\n",
       "            │<span style=\"color: #1e90ff; text-decoration-color: #1e90ff\"> echo_tool    </span>│ Dummy tool to show required format for    │ dummy (`string`): dummy string to show   │\n",
       "            │<span style=\"color: #1e90ff; text-decoration-color: #1e90ff\">              </span>│ tool use                                  │                                          │\n",
       "            │<span style=\"color: #1e90ff; text-decoration-color: #1e90ff\"> final_answer </span>│ Provides a final answer to the given      │ answer (`any`): The final answer to the  │\n",
       "            │<span style=\"color: #1e90ff; text-decoration-color: #1e90ff\">              </span>│ problem.                                  │ problem                                  │\n",
       "            └──────────────┴───────────────────────────────────────────┴──────────────────────────────────────────┘\n",
       "</pre>\n"
      ],
      "text/plain": [
       "\u001b[1;38;2;212;183;2mToolCallingAgent | HuggingFaceTB/SmolLM2-1.7B-Instruct\u001b[0m\n",
       "├── 🛠️ \u001b[3;38;2;30;144;255mTools:\u001b[0m\n",
       "│   ┏━━━━━━━━━━━━━━━━━━━━━┳━━━━━━━━━━━━━━━━━━━━━━━━━━━━━━━━━━━━━━━━━━━┳━━━━━━━━━━━━━━━━━━━━━━━━━━━━━━━━━━━━━━━━━━━┓\n",
       "│   ┃\u001b[1m \u001b[0m\u001b[1mName               \u001b[0m\u001b[1m \u001b[0m┃\u001b[1m \u001b[0m\u001b[1mDescription                              \u001b[0m\u001b[1m \u001b[0m┃\u001b[1m \u001b[0m\u001b[1mArguments                                \u001b[0m\u001b[1m \u001b[0m┃\n",
       "│   ┡━━━━━━━━━━━━━━━━━━━━━╇━━━━━━━━━━━━━━━━━━━━━━━━━━━━━━━━━━━━━━━━━━━╇━━━━━━━━━━━━━━━━━━━━━━━━━━━━━━━━━━━━━━━━━━━┩\n",
       "│   │\u001b[38;2;30;144;255m \u001b[0m\u001b[38;2;30;144;255mmake_reccomendation\u001b[0m\u001b[38;2;30;144;255m \u001b[0m│ Dummy tool to show required format for    │ performance_score (`number`): The         │\n",
       "│   │\u001b[38;2;30;144;255m                     \u001b[0m│ tool use                                  │ performance score as calculated by        │\n",
       "│   │\u001b[38;2;30;144;255m                     \u001b[0m│                                           │ Performance.                              │\n",
       "│   │\u001b[38;2;30;144;255m                     \u001b[0m│                                           │ risk_score (`number`): The risk score as  │\n",
       "│   │\u001b[38;2;30;144;255m                     \u001b[0m│                                           │ calculated by Risk.                       │\n",
       "│   │\u001b[38;2;30;144;255m                     \u001b[0m│                                           │ sentiment_score (`number`): The sentiment │\n",
       "│   │\u001b[38;2;30;144;255m                     \u001b[0m│                                           │ score as calculated by Sentiment.         │\n",
       "│   │\u001b[38;2;30;144;255m                     \u001b[0m│                                           │ impact_score (`number`): The impact score │\n",
       "│   │\u001b[38;2;30;144;255m                     \u001b[0m│                                           │ as calculated by Impact.                  │\n",
       "│   │\u001b[38;2;30;144;255m \u001b[0m\u001b[38;2;30;144;255mfinal_answer       \u001b[0m\u001b[38;2;30;144;255m \u001b[0m│ Provides a final answer to the given      │ answer (`any`): The final answer to the   │\n",
       "│   │\u001b[38;2;30;144;255m                     \u001b[0m│ problem.                                  │ problem                                   │\n",
       "│   └─────────────────────┴───────────────────────────────────────────┴───────────────────────────────────────────┘\n",
       "└── 🤖 \u001b[3;38;2;30;144;255mManaged agents:\u001b[0m\n",
       "    ├── \u001b[1;38;2;212;183;2mPerforance | ToolCallingAgent | HuggingFaceTB/SmolLM2-1.7B-Instruct\u001b[0m\n",
       "    │   ├── 📝 \u001b[3;38;2;30;144;255mDescription:\u001b[0m Analyze stock performance, historical growth, and future potential.\n",
       "    │   └── 🛠️ \u001b[3;38;2;30;144;255mTools:\u001b[0m\n",
       "    │       ┏━━━━━━━━━━━━━━━━━━━━━━━━━━━━━┳━━━━━━━━━━━━━━━━━━━━━━━━━━━━━━━━━━━┳━━━━━━━━━━━━━━━━━━━━━━━━━━━━━━━━━━━┓\n",
       "    │       ┃\u001b[1m \u001b[0m\u001b[1mName                       \u001b[0m\u001b[1m \u001b[0m┃\u001b[1m \u001b[0m\u001b[1mDescription                      \u001b[0m\u001b[1m \u001b[0m┃\u001b[1m \u001b[0m\u001b[1mArguments                        \u001b[0m\u001b[1m \u001b[0m┃\n",
       "    │       ┡━━━━━━━━━━━━━━━━━━━━━━━━━━━━━╇━━━━━━━━━━━━━━━━━━━━━━━━━━━━━━━━━━━╇━━━━━━━━━━━━━━━━━━━━━━━━━━━━━━━━━━━┩\n",
       "    │       │\u001b[38;2;30;144;255m \u001b[0m\u001b[38;2;30;144;255mcalculate_performance_score\u001b[0m\u001b[38;2;30;144;255m \u001b[0m│ Calculate a performance score     │ instrument (`string`): The        │\n",
       "    │       │\u001b[38;2;30;144;255m                             \u001b[0m│ based on the model prediction of  │ financial instrument of interest. │\n",
       "    │       │\u001b[38;2;30;144;255m                             \u001b[0m│ future financial instrument       │                                   │\n",
       "    │       │\u001b[38;2;30;144;255m                             \u001b[0m│ movement.                         │                                   │\n",
       "    │       │\u001b[38;2;30;144;255m \u001b[0m\u001b[38;2;30;144;255mfinal_answer               \u001b[0m\u001b[38;2;30;144;255m \u001b[0m│ Provides a final answer to the    │ answer (`any`): The final answer  │\n",
       "    │       │\u001b[38;2;30;144;255m                             \u001b[0m│ given problem.                    │ to the problem                    │\n",
       "    │       └─────────────────────────────┴───────────────────────────────────┴───────────────────────────────────┘\n",
       "    ├── \u001b[1;38;2;212;183;2mRisk | ToolCallingAgent | HuggingFaceTB/SmolLM2-1.7B-Instruct\u001b[0m\n",
       "    │   ├── 📝 \u001b[3;38;2;30;144;255mDescription:\u001b[0m Measure risk, volatility, and downside probability.\n",
       "    │   └── 🛠️ \u001b[3;38;2;30;144;255mTools:\u001b[0m\n",
       "    │       ┏━━━━━━━━━━━━━━┳━━━━━━━━━━━━━━━━━━━━━━━━━━━━━━━━━━━━━━━━━━━┳━━━━━━━━━━━━━━━━━━━━━━━━━━━━━━━━━━━━━━━━━━┓\n",
       "    │       ┃\u001b[1m \u001b[0m\u001b[1mName        \u001b[0m\u001b[1m \u001b[0m┃\u001b[1m \u001b[0m\u001b[1mDescription                              \u001b[0m\u001b[1m \u001b[0m┃\u001b[1m \u001b[0m\u001b[1mArguments                               \u001b[0m\u001b[1m \u001b[0m┃\n",
       "    │       ┡━━━━━━━━━━━━━━╇━━━━━━━━━━━━━━━━━━━━━━━━━━━━━━━━━━━━━━━━━━━╇━━━━━━━━━━━━━━━━━━━━━━━━━━━━━━━━━━━━━━━━━━┩\n",
       "    │       │\u001b[38;2;30;144;255m \u001b[0m\u001b[38;2;30;144;255mecho_tool   \u001b[0m\u001b[38;2;30;144;255m \u001b[0m│ Dummy tool to show required format for    │ dummy (`string`): dummy string to show   │\n",
       "    │       │\u001b[38;2;30;144;255m              \u001b[0m│ tool use                                  │                                          │\n",
       "    │       │\u001b[38;2;30;144;255m \u001b[0m\u001b[38;2;30;144;255mfinal_answer\u001b[0m\u001b[38;2;30;144;255m \u001b[0m│ Provides a final answer to the given      │ answer (`any`): The final answer to the  │\n",
       "    │       │\u001b[38;2;30;144;255m              \u001b[0m│ problem.                                  │ problem                                  │\n",
       "    │       └──────────────┴───────────────────────────────────────────┴──────────────────────────────────────────┘\n",
       "    ├── \u001b[1;38;2;212;183;2mSentiment | ToolCallingAgent | HuggingFaceTB/SmolLM2-1.7B-Instruct\u001b[0m\n",
       "    │   ├── 📝 \u001b[3;38;2;30;144;255mDescription:\u001b[0m Gauge market mood through news and media sentiment.\n",
       "    │   └── 🛠️ \u001b[3;38;2;30;144;255mTools:\u001b[0m\n",
       "    │       ┏━━━━━━━━━━━━━━━━━━━━━━━━━━━┳━━━━━━━━━━━━━━━━━━━━━━━━━━━━━━━━━━━━┳━━━━━━━━━━━━━━━━━━━━━━━━━━━━━━━━━━━━┓\n",
       "    │       ┃\u001b[1m \u001b[0m\u001b[1mName                     \u001b[0m\u001b[1m \u001b[0m┃\u001b[1m \u001b[0m\u001b[1mDescription                       \u001b[0m\u001b[1m \u001b[0m┃\u001b[1m \u001b[0m\u001b[1mArguments                         \u001b[0m\u001b[1m \u001b[0m┃\n",
       "    │       ┡━━━━━━━━━━━━━━━━━━━━━━━━━━━╇━━━━━━━━━━━━━━━━━━━━━━━━━━━━━━━━━━━━╇━━━━━━━━━━━━━━━━━━━━━━━━━━━━━━━━━━━━┩\n",
       "    │       │\u001b[38;2;30;144;255m \u001b[0m\u001b[38;2;30;144;255mcalculate_sentiment_score\u001b[0m\u001b[38;2;30;144;255m \u001b[0m│ Calculate a sentiment score from   │ api_key (`string`): NewsAPI key    │\n",
       "    │       │\u001b[38;2;30;144;255m                           \u001b[0m│ news articles related to the       │ used to pulls articles from        │\n",
       "    │       │\u001b[38;2;30;144;255m                           \u001b[0m│ financial instrument in question.  │ NewsAPI.                           │\n",
       "    │       │\u001b[38;2;30;144;255m                           \u001b[0m│                                    │ query (`string`): The keyword(s)   │\n",
       "    │       │\u001b[38;2;30;144;255m                           \u001b[0m│                                    │ used to query NewsAPI.             │\n",
       "    │       │\u001b[38;2;30;144;255m                           \u001b[0m│                                    │ timeframe (`string`): Time period  │\n",
       "    │       │\u001b[38;2;30;144;255m                           \u001b[0m│                                    │ to look back - default: 30 days.   │\n",
       "    │       │\u001b[38;2;30;144;255m \u001b[0m\u001b[38;2;30;144;255mfinal_answer             \u001b[0m\u001b[38;2;30;144;255m \u001b[0m│ Provides a final answer to the     │ answer (`any`): The final answer   │\n",
       "    │       │\u001b[38;2;30;144;255m                           \u001b[0m│ given problem.                     │ to the problem                     │\n",
       "    │       └───────────────────────────┴────────────────────────────────────┴────────────────────────────────────┘\n",
       "    ├── \u001b[1;38;2;212;183;2mImpact | ToolCallingAgent | HuggingFaceTB/SmolLM2-1.7B-Instruct\u001b[0m\n",
       "    │   ├── 📝 \u001b[3;38;2;30;144;255mDescription:\u001b[0m Evaluate sustainability, innovation, and ethical governance.\n",
       "    │   └── 🛠️ \u001b[3;38;2;30;144;255mTools:\u001b[0m\n",
       "    │       ┏━━━━━━━━━━━━━━┳━━━━━━━━━━━━━━━━━━━━━━━━━━━━━━━━━━━━━━━━━━━┳━━━━━━━━━━━━━━━━━━━━━━━━━━━━━━━━━━━━━━━━━━┓\n",
       "    │       ┃\u001b[1m \u001b[0m\u001b[1mName        \u001b[0m\u001b[1m \u001b[0m┃\u001b[1m \u001b[0m\u001b[1mDescription                              \u001b[0m\u001b[1m \u001b[0m┃\u001b[1m \u001b[0m\u001b[1mArguments                               \u001b[0m\u001b[1m \u001b[0m┃\n",
       "    │       ┡━━━━━━━━━━━━━━╇━━━━━━━━━━━━━━━━━━━━━━━━━━━━━━━━━━━━━━━━━━━╇━━━━━━━━━━━━━━━━━━━━━━━━━━━━━━━━━━━━━━━━━━┩\n",
       "    │       │\u001b[38;2;30;144;255m \u001b[0m\u001b[38;2;30;144;255mecho_tool   \u001b[0m\u001b[38;2;30;144;255m \u001b[0m│ Dummy tool to show required format for    │ dummy (`string`): dummy string to show   │\n",
       "    │       │\u001b[38;2;30;144;255m              \u001b[0m│ tool use                                  │                                          │\n",
       "    │       │\u001b[38;2;30;144;255m \u001b[0m\u001b[38;2;30;144;255mfinal_answer\u001b[0m\u001b[38;2;30;144;255m \u001b[0m│ Provides a final answer to the given      │ answer (`any`): The final answer to the  │\n",
       "    │       │\u001b[38;2;30;144;255m              \u001b[0m│ problem.                                  │ problem                                  │\n",
       "    │       └──────────────┴───────────────────────────────────────────┴──────────────────────────────────────────┘\n",
       "    └── \u001b[1;38;2;212;183;2mEvaluator | ToolCallingAgent | HuggingFaceTB/SmolLM2-1.7B-Instruct\u001b[0m\n",
       "        ├── 📝 \u001b[3;38;2;30;144;255mDescription:\u001b[0m Audit, validate, and optimize Commander's final decision.\n",
       "        └── 🛠️ \u001b[3;38;2;30;144;255mTools:\u001b[0m\n",
       "            ┏━━━━━━━━━━━━━━┳━━━━━━━━━━━━━━━━━━━━━━━━━━━━━━━━━━━━━━━━━━━┳━━━━━━━━━━━━━━━━━━━━━━━━━━━━━━━━━━━━━━━━━━┓\n",
       "            ┃\u001b[1m \u001b[0m\u001b[1mName        \u001b[0m\u001b[1m \u001b[0m┃\u001b[1m \u001b[0m\u001b[1mDescription                              \u001b[0m\u001b[1m \u001b[0m┃\u001b[1m \u001b[0m\u001b[1mArguments                               \u001b[0m\u001b[1m \u001b[0m┃\n",
       "            ┡━━━━━━━━━━━━━━╇━━━━━━━━━━━━━━━━━━━━━━━━━━━━━━━━━━━━━━━━━━━╇━━━━━━━━━━━━━━━━━━━━━━━━━━━━━━━━━━━━━━━━━━┩\n",
       "            │\u001b[38;2;30;144;255m \u001b[0m\u001b[38;2;30;144;255mecho_tool   \u001b[0m\u001b[38;2;30;144;255m \u001b[0m│ Dummy tool to show required format for    │ dummy (`string`): dummy string to show   │\n",
       "            │\u001b[38;2;30;144;255m              \u001b[0m│ tool use                                  │                                          │\n",
       "            │\u001b[38;2;30;144;255m \u001b[0m\u001b[38;2;30;144;255mfinal_answer\u001b[0m\u001b[38;2;30;144;255m \u001b[0m│ Provides a final answer to the given      │ answer (`any`): The final answer to the  │\n",
       "            │\u001b[38;2;30;144;255m              \u001b[0m│ problem.                                  │ problem                                  │\n",
       "            └──────────────┴───────────────────────────────────────────┴──────────────────────────────────────────┘\n"
      ]
     },
     "metadata": {},
     "output_type": "display_data"
    }
   ],
   "source": [
    "\"\"\"Configure agents\"\"\"\n",
    "performance_agent = ToolCallingAgent(\n",
    "    name=\"Perforance\",\n",
    "    description=\"Analyze stock performance, historical growth, and future potential.\",\n",
    "    model=base_model,\n",
    "    tools=performance.tools,\n",
    "    )\n",
    "\n",
    "risk_agent = ToolCallingAgent(\n",
    "    name=\"Risk\",\n",
    "    description=\"Measure risk, volatility, and downside probability.\",\n",
    "    model=base_model,\n",
    "    tools=risk.tools,\n",
    "    )\n",
    "\n",
    "sentiment_agent = ToolCallingAgent(\n",
    "    name=\"Sentiment\",\n",
    "    description=\"Gauge market mood through news and media sentiment.\",\n",
    "    model=base_model,\n",
    "    tools=sentiment.tools,\n",
    "    )\n",
    "\n",
    "impact_agent = ToolCallingAgent(\n",
    "    name=\"Impact\",\n",
    "    description=\"Evaluate sustainability, innovation, and ethical governance.\",\n",
    "    model=base_model,\n",
    "    tools=impact.tools,\n",
    "    )\n",
    "\n",
    "evaluation_agent = ToolCallingAgent(\n",
    "    name=\"Evaluator\",\n",
    "    description=\"Audit, validate, and optimize Commander's final decision.\",\n",
    "    model=base_model,  # probably need a more robust agent here...\n",
    "    tools=evaluator.tools,\n",
    "    )\n",
    "\n",
    "commander_agent = ToolCallingAgent(\n",
    "    name=\"Commander\",\n",
    "    description=\"Synthesize all agent outputs and deliver final classification.\",\n",
    "    model=base_model,\n",
    "    tools=commander.tools,\n",
    "    managed_agents=[performance_agent, risk_agent, sentiment_agent, impact_agent, evaluation_agent]\n",
    "    )\n",
    "\n",
    "commander_agent.visualize()"
   ]
  },
  {
   "cell_type": "code",
   "execution_count": null,
   "id": "3e34e183",
   "metadata": {},
   "outputs": [],
   "source": [
    "task1 = \"NVIDIA stock (NVDA)\"\n",
    "task2 = \"Bitwise Bitcoin ETF (BITB)\"\n",
    "\n",
    "commander_agent.run(f\"\"\"Your task is to classify each of the following financial instruments into “BUY”, “HOLD”, or “AVOID”:\n",
    "1. {task1}\n",
    "2. {task2}\n",
    "\n",
    "You have a very capable team below you that you should leverage to accomplish your task.  Here are the profiles of each of your team members:\n",
    "`Performance`\n",
    "\tRole: Evaluates core metrics — returns, growth rate, EPS, and expense ratios if analyzing ETFs.\n",
    "\tLogic: Calculates performance over 1, 3, and 5 years; compares it to sector averages.\n",
    "\tOutput: A performance score between 0 and 1 with 1 being the most performant.\n",
    "    \n",
    "`Risk`\n",
    "\tRole: Measures risk — beta value, standard deviation, and recent drawdowns.\n",
    "\tLogic: \n",
    "\tOutput: A risk score between -1 and 1 where 1 means “High Risk\", -1 menas High Reward”, and 0 represents a “Stable Performer”.\n",
    "    \n",
    "`Sentiment`\n",
    "\tRole: Reads financial news — determines market sentiment.\n",
    "\tLogic: Uses NLP to classify tone of each article into -1 if negative, 0 if neutral, and 1 if positive.\n",
    "\tOutput: A sentiment score consisting of the mean value of the sentiment classifications for all articles analyzed.\n",
    "    \n",
    "`Impact`\n",
    "\tRole: Determines impact — calculates ESG or AI exposure scoring.\n",
    "\tLogic: \n",
    "\tOutput: An impact score between 0 and 1 where the higher the score, the greater the impact.\n",
    "\n",
    "`Evaluator`\n",
    "\tRole: Reviews worker logs — ensures final recommendation is logically derived from information retrieved.\n",
    "    Logic: \n",
    "    Output: A binary classification: \"PASS\" if the logic is sound, \"FAIL\" if the logic is unsound.\n",
    "    \n",
    "An example workflow would be:\n",
    "1) Task each of your workers with doing their job:\n",
    "\ti) Performance should calculate and return a performance score.\n",
    "    ii) Risk should calculate and return a risk score.\n",
    "    iii) Sentiment should calculate and return a sentiment score.\n",
    "    iv) Impact should calculate and return an impact score.\n",
    "2) Combine your team member's scores by applying the weighted formula: Final_Score = (0.4*Performance) + (0.2*Risk) + (0.3*Sentiment) + (0.1*Impact).\n",
    "3) Use the `Final_Score` to classify the stock into “BUY”, “HOLD”, “AVOID”.\n",
    "4) Send your logs and classification to Evaluator for final sign-off.\n",
    "5) Output your final recommendation: “BUY”, “HOLD”, or “AVOID”\n",
    "\"\"\")"
   ]
  },
  {
   "cell_type": "markdown",
   "id": "6d1c05e9",
   "metadata": {},
   "source": [
    "## Prompt Chaining:\n",
    "### Ingest News"
   ]
  },
  {
   "cell_type": "markdown",
   "id": "a2dbe135",
   "metadata": {},
   "source": [
    "### Preprocess"
   ]
  },
  {
   "cell_type": "code",
   "execution_count": null,
   "id": "0499188d",
   "metadata": {},
   "outputs": [],
   "source": []
  },
  {
   "cell_type": "markdown",
   "id": "803107c6",
   "metadata": {},
   "source": [
    "### Classify"
   ]
  },
  {
   "cell_type": "code",
   "execution_count": null,
   "id": "64b28906",
   "metadata": {},
   "outputs": [],
   "source": []
  },
  {
   "cell_type": "markdown",
   "id": "440f75ef",
   "metadata": {},
   "source": [
    "### Extract"
   ]
  },
  {
   "cell_type": "code",
   "execution_count": null,
   "id": "11a7d8e5",
   "metadata": {},
   "outputs": [],
   "source": []
  },
  {
   "cell_type": "markdown",
   "id": "e7bc9c78",
   "metadata": {},
   "source": [
    "### Summarize"
   ]
  },
  {
   "cell_type": "code",
   "execution_count": null,
   "id": "e50ca5f9",
   "metadata": {},
   "outputs": [],
   "source": []
  },
  {
   "cell_type": "markdown",
   "id": "a856783b",
   "metadata": {},
   "source": [
    "## Routing:"
   ]
  },
  {
   "cell_type": "code",
   "execution_count": null,
   "id": "89492308",
   "metadata": {},
   "outputs": [],
   "source": [
    "\"\"\"Direct content to the right specialist (e.g., earnings, news, or market analyzers).\"\"\"\n",
    "# Example from Lecture:\n",
    "\t# Pull earnings report\n",
    "\t# Search for CEO interviews\n",
    "\t# ask follow up questions if unclear\n",
    "\t# stops when confident in recommendation"
   ]
  },
  {
   "cell_type": "markdown",
   "id": "d468b8ca",
   "metadata": {},
   "source": [
    "## Evaluator–Optimizer:\n",
    "### Generate analysis"
   ]
  },
  {
   "cell_type": "code",
   "execution_count": null,
   "id": "ddd15d4a",
   "metadata": {},
   "outputs": [],
   "source": []
  },
  {
   "cell_type": "markdown",
   "id": "7cee0f65",
   "metadata": {},
   "source": [
    "### Evaluate quality"
   ]
  },
  {
   "cell_type": "code",
   "execution_count": null,
   "id": "f2c2fdad",
   "metadata": {},
   "outputs": [],
   "source": []
  },
  {
   "cell_type": "markdown",
   "id": "09107df8",
   "metadata": {},
   "source": [
    "### Refine using feedback"
   ]
  },
  {
   "cell_type": "code",
   "execution_count": null,
   "id": "3722be4f",
   "metadata": {},
   "outputs": [],
   "source": []
  },
  {
   "cell_type": "markdown",
   "id": "f343e715",
   "metadata": {},
   "source": [
    "# Summary\n",
    "\n",
    "* Agent Design and Workflows\n",
    "* Agent Functions and Capabilities\n",
    "* Evaluation and Iteration"
   ]
  }
 ],
 "metadata": {
  "kernelspec": {
   "display_name": ".venv",
   "language": "python",
   "name": "python3"
  },
  "language_info": {
   "codemirror_mode": {
    "name": "ipython",
    "version": 3
   },
   "file_extension": ".py",
   "mimetype": "text/x-python",
   "name": "python",
   "nbconvert_exporter": "python",
   "pygments_lexer": "ipython3",
   "version": "3.10.12"
  }
 },
 "nbformat": 4,
 "nbformat_minor": 5
}
