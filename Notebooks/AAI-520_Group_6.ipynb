{
 "cells": [
  {
   "cell_type": "markdown",
   "id": "721e0449",
   "metadata": {},
   "source": [
    "# Repo Link\n",
    "https://github.com/mr-kelsey/fa25-aai520-group6.git\n",
    "\n",
    "# Objective\n",
    "Build an autonomous Investment Research Agent that:\n",
    "1. Plans its research steps for a given stock symbol.\n",
    "2. Uses tools dynamically (APIs, datasets, retrieval).\n",
    "3. Self-reflects to assess the quality of its output.\n",
    "4. Learns across runs (e.g., keeps brief memories or notes to improve future analyses)."
   ]
  },
  {
   "cell_type": "markdown",
   "id": "f1d4a1f3",
   "metadata": {},
   "source": [
    "# Code"
   ]
  },
  {
   "cell_type": "code",
   "execution_count": null,
   "id": "6285ff4d",
   "metadata": {},
   "outputs": [],
   "source": [
    "\"\"\"Imports\"\"\""
   ]
  },
  {
   "cell_type": "markdown",
   "id": "6d1c05e9",
   "metadata": {},
   "source": [
    "## Prompt Chaining:\n",
    "### Ingest News"
   ]
  },
  {
   "cell_type": "code",
   "execution_count": null,
   "id": "fffbeb15",
   "metadata": {},
   "outputs": [],
   "source": []
  },
  {
   "cell_type": "markdown",
   "id": "a2dbe135",
   "metadata": {},
   "source": [
    "### Preprocess"
   ]
  },
  {
   "cell_type": "code",
   "execution_count": null,
   "id": "0499188d",
   "metadata": {},
   "outputs": [],
   "source": []
  },
  {
   "cell_type": "markdown",
   "id": "803107c6",
   "metadata": {},
   "source": [
    "### Classify"
   ]
  },
  {
   "cell_type": "code",
   "execution_count": null,
   "id": "64b28906",
   "metadata": {},
   "outputs": [],
   "source": []
  },
  {
   "cell_type": "markdown",
   "id": "440f75ef",
   "metadata": {},
   "source": [
    "### Extract"
   ]
  },
  {
   "cell_type": "code",
   "execution_count": null,
   "id": "11a7d8e5",
   "metadata": {},
   "outputs": [],
   "source": []
  },
  {
   "cell_type": "markdown",
   "id": "e7bc9c78",
   "metadata": {},
   "source": [
    "### Summarize"
   ]
  },
  {
   "cell_type": "code",
   "execution_count": null,
   "id": "e50ca5f9",
   "metadata": {},
   "outputs": [],
   "source": []
  },
  {
   "cell_type": "markdown",
   "id": "a856783b",
   "metadata": {},
   "source": [
    "## Routing:"
   ]
  },
  {
   "cell_type": "code",
   "execution_count": null,
   "id": "89492308",
   "metadata": {},
   "outputs": [],
   "source": [
    "\"\"\"Direct content to the right specialist (e.g., earnings, news, or market analyzers).\"\"\""
   ]
  },
  {
   "cell_type": "markdown",
   "id": "d468b8ca",
   "metadata": {},
   "source": [
    "## Evaluator–Optimizer:\n",
    "### Generate analysis"
   ]
  },
  {
   "cell_type": "code",
   "execution_count": null,
   "id": "ddd15d4a",
   "metadata": {},
   "outputs": [],
   "source": []
  },
  {
   "cell_type": "markdown",
   "id": "7cee0f65",
   "metadata": {},
   "source": [
    "### Evaluate quality"
   ]
  },
  {
   "cell_type": "code",
   "execution_count": null,
   "id": "f2c2fdad",
   "metadata": {},
   "outputs": [],
   "source": []
  },
  {
   "cell_type": "markdown",
   "id": "09107df8",
   "metadata": {},
   "source": [
    "### Refine using feedback"
   ]
  },
  {
   "cell_type": "code",
   "execution_count": null,
   "id": "3722be4f",
   "metadata": {},
   "outputs": [],
   "source": []
  },
  {
   "cell_type": "markdown",
   "id": "f343e715",
   "metadata": {},
   "source": [
    "# Summary\n",
    "\n",
    "* Agent Design and Workflows\n",
    "* Agent Functions and Capabilities\n",
    "* Evaluation and Iteration"
   ]
  }
 ],
 "metadata": {
  "language_info": {
   "name": "python"
  }
 },
 "nbformat": 4,
 "nbformat_minor": 5
}
